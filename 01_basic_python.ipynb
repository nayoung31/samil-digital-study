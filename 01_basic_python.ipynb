{
  "nbformat": 4,
  "nbformat_minor": 0,
  "metadata": {
    "colab": {
      "provenance": []
    },
    "kernelspec": {
      "name": "python3",
      "display_name": "Python 3"
    },
    "language_info": {
      "name": "python"
    }
  },
  "cells": [
    {
      "cell_type": "code",
      "execution_count": 1,
      "metadata": {
        "colab": {
          "base_uri": "https://localhost:8080/"
        },
        "id": "q65Z_GFft3KT",
        "outputId": "afdb180a-f4ca-401e-8ae2-421129d5fbd4"
      },
      "outputs": [
        {
          "output_type": "stream",
          "name": "stdout",
          "text": [
            "Hello, Na-young!\n",
            "첫 번째 파이썬 실습입니다.\n",
            "이름: 나영\n",
            "나이: 31\n",
            "키: 163.5\n",
            "더하기: 13\n",
            "빼기: 7\n",
            "곱하기: 30\n",
            "나누기: 3.3333333333333335\n",
            "성적: B\n",
            "반복 중입니다: 0\n",
            "반복 중입니다: 1\n",
            "반복 중입니다: 2\n",
            "반복 중입니다: 3\n",
            "반복 중입니다: 4\n"
          ]
        }
      ],
      "source": [
        "# 🔸 1. 출력해보기\n",
        "print(\"Hello, Na-young!\")\n",
        "print(\"첫 번째 파이썬 실습입니다.\")\n",
        "\n",
        "# 🔸 2. 변수와 자료형\n",
        "name = \"나영\"\n",
        "age = 31\n",
        "height = 163.5\n",
        "\n",
        "print(\"이름:\", name)\n",
        "print(\"나이:\", age)\n",
        "print(\"키:\", height)\n",
        "\n",
        "# 🔸 3. 사칙연산\n",
        "a = 10\n",
        "b = 3\n",
        "\n",
        "print(\"더하기:\", a + b)\n",
        "print(\"빼기:\", a - b)\n",
        "print(\"곱하기:\", a * b)\n",
        "print(\"나누기:\", a / b)\n",
        "\n",
        "# 🔸 4. 조건문 if\n",
        "score = 85\n",
        "\n",
        "if score >= 90:\n",
        "    print(\"성적: A\")\n",
        "elif score >= 80:\n",
        "    print(\"성적: B\")\n",
        "else:\n",
        "    print(\"성적: C 이하\")\n",
        "\n",
        "# 🔸 5. 반복문 for\n",
        "for i in range(5):\n",
        "    print(\"반복 중입니다:\", i)\n",
        "\n",
        "# 🔸 6. 연습 - 나영이 직접 해보기!\n",
        "# 아래 빈칸을 채워보세요 👇\n",
        "\n",
        "# 이름과 나이를 변수로 만들고 출력해보세요\n",
        "\n",
        "# 숫자 두 개를 변수로 만들고 더해보세요\n",
        "\n",
        "# 점수를 넣고 if문으로 등급 나눠보세요\n",
        "\n",
        "# '안녕하세요'를 3번 출력해보세요\n"
      ]
    },
    {
      "cell_type": "code",
      "source": [
        "print(\"Hello, Na young!\")\n",
        "print(\"파이썬 첫 수업이에요.\")\n",
        "\n",
        "name = \"나영\"\n",
        "age = 31\n",
        "\n",
        "print(\"이름:\", name)\n",
        "print(\"나이:\", age)\n",
        "print(name, \"의 나이는\", age, \"살입니다.\")"
      ],
      "metadata": {
        "colab": {
          "base_uri": "https://localhost:8080/"
        },
        "id": "rpuKEXujugQK",
        "outputId": "c5ab4f82-b225-4dc1-c486-001b2cd14a8b"
      },
      "execution_count": 4,
      "outputs": [
        {
          "output_type": "stream",
          "name": "stdout",
          "text": [
            "Hello, Na young!\n",
            "파이썬 첫 수업이에요.\n",
            "이름: 나영\n",
            "나이: 31\n",
            "나영 의 나이는 31 살입니다.\n"
          ]
        }
      ]
    },
    {
      "cell_type": "code",
      "source": [
        "a = 10\n",
        "b = 3\n",
        "\n",
        "print(a+b)\n",
        "print(a-b)\n",
        "print(a*b)\n",
        "print(a/b)"
      ],
      "metadata": {
        "colab": {
          "base_uri": "https://localhost:8080/"
        },
        "id": "H2lsQRVAv96e",
        "outputId": "359e0d82-0784-46da-bba1-eac4124a9a1b"
      },
      "execution_count": 5,
      "outputs": [
        {
          "output_type": "stream",
          "name": "stdout",
          "text": [
            "13\n",
            "7\n",
            "30\n",
            "3.3333333333333335\n"
          ]
        }
      ]
    },
    {
      "cell_type": "code",
      "source": [
        "# 틀린 코드\n",
        "a = 10\n",
        "b = 20\n",
        "if a>b:\n",
        "  print(\"a가 큽니다\")\n",
        "print(\"비교 완료\")\n",
        "\n",
        "# 고친 코드 예시\n",
        "a = 10\n",
        "b = 20\n",
        "if a > b:\n",
        "    print(\"a가 큽니다\")\n",
        "print(\"비교 완료\")\n",
        "\n"
      ],
      "metadata": {
        "colab": {
          "base_uri": "https://localhost:8080/"
        },
        "id": "bdqlahnIyPO6",
        "outputId": "198dd350-9f48-4cb4-9bdf-ac792387a910"
      },
      "execution_count": 7,
      "outputs": [
        {
          "output_type": "stream",
          "name": "stdout",
          "text": [
            "비교 완료\n",
            "비교 완료\n"
          ]
        }
      ]
    },
    {
      "cell_type": "code",
      "source": [
        "score = 85\n",
        "\n",
        "if score >= 90 :\n",
        "    print(\"A입니다\")\n",
        "elif score >= 80 :\n",
        "    print(\"B입니다.\")\n",
        "else:\n",
        "    print(\"C입니다.\")"
      ],
      "metadata": {
        "colab": {
          "base_uri": "https://localhost:8080/"
        },
        "id": "35rNj6aWzv7U",
        "outputId": "7369bb5f-283f-4246-93f2-b3caf30d25f7"
      },
      "execution_count": 9,
      "outputs": [
        {
          "output_type": "stream",
          "name": "stdout",
          "text": [
            "B입니다.\n"
          ]
        }
      ]
    },
    {
      "cell_type": "code",
      "source": [
        "for i in range(5) :\n",
        "    print(\"반복\", i)"
      ],
      "metadata": {
        "colab": {
          "base_uri": "https://localhost:8080/"
        },
        "id": "jTgXiqmJ0Ulq",
        "outputId": "9aa69dda-8434-44e3-d114-0d6344ec9bf1"
      },
      "execution_count": 11,
      "outputs": [
        {
          "output_type": "stream",
          "name": "stdout",
          "text": [
            "반복 0\n",
            "반복 1\n",
            "반복 2\n",
            "반복 3\n",
            "반복 4\n"
          ]
        }
      ]
    },
    {
      "cell_type": "code",
      "source": [],
      "metadata": {
        "id": "MnwGvL1X01Dt"
      },
      "execution_count": null,
      "outputs": []
    }
  ]
}