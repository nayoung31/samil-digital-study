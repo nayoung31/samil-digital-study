{
  "nbformat": 4,
  "nbformat_minor": 0,
  "metadata": {
    "colab": {
      "provenance": []
    },
    "kernelspec": {
      "name": "python3",
      "display_name": "Python 3"
    },
    "language_info": {
      "name": "python"
    }
  },
  "cells": [
    {
      "cell_type": "code",
      "execution_count": null,
      "metadata": {
        "colab": {
          "base_uri": "https://localhost:8080/"
        },
        "id": "cXK9T2icFeXk",
        "outputId": "5e6e2cf8-f8ae-4218-aca0-4a93b025578c"
      },
      "outputs": [
        {
          "output_type": "stream",
          "name": "stdout",
          "text": [
            "['사과', '바나나', '포도']\n",
            "['사과', '바나나', '포도', '딸기']\n",
            "과일: 사과\n",
            "과일: 바나나\n",
            "과일: 포도\n",
            "과일: 딸기\n"
          ]
        }
      ],
      "source": [
        "fruits = [\"사과\", \"바나나\", \"포도\"]\n",
        "print(fruits)\n",
        "\n",
        "fruits.append(\"딸기\")\n",
        "print(fruits)\n",
        "\n",
        "for fruit in fruits :\n",
        "    print(\"과일:\", fruit)"
      ]
    },
    {
      "cell_type": "markdown",
      "source": [
        "# 새 섹션"
      ],
      "metadata": {
        "id": "mPBBAREECZEU"
      }
    },
    {
      "cell_type": "code",
      "source": [
        "person = {\"이름\": \"나영\", \"나이\": 31, \"직업\": \"회계사\"}\n",
        "print(person)\n",
        "\n",
        "print(person[\"이름\"])\n",
        "print(person[\"직업\"])\n",
        "\n",
        "person[\"취미\"] =  \"발레\"\n",
        "print(person)\n",
        "\n",
        "for key in person :\n",
        "    print(key, \":\", person[key])"
      ],
      "metadata": {
        "colab": {
          "base_uri": "https://localhost:8080/"
        },
        "id": "xeaWfbuqGipr",
        "outputId": "787b9879-b6cb-4bf8-8fab-1212cd6203e9"
      },
      "execution_count": null,
      "outputs": [
        {
          "output_type": "stream",
          "name": "stdout",
          "text": [
            "{'이름': '나영', '나이': 31, '직업': '회계사'}\n",
            "나영\n",
            "회계사\n",
            "{'이름': '나영', '나이': 31, '직업': '회계사', '취미': '발레'}\n",
            "이름 : 나영\n",
            "나이 : 31\n",
            "직업 : 회계사\n",
            "취미 : 발레\n"
          ]
        }
      ]
    },
    {
      "cell_type": "code",
      "source": [
        "person = {\"이름\": \"나영\", \"나이\": 31, \"직업\": \"회계사\"}\n",
        "\n",
        "for key, value in person.items() :\n",
        "    print(key, \":\", value)"
      ],
      "metadata": {
        "id": "oWmK3u8sNO2E",
        "colab": {
          "base_uri": "https://localhost:8080/"
        },
        "outputId": "7ef98f30-d287-4678-ad48-99b6dab81851"
      },
      "execution_count": null,
      "outputs": [
        {
          "output_type": "stream",
          "name": "stdout",
          "text": [
            "이름 : 나영\n",
            "나이 : 31\n",
            "직업 : 회계사\n"
          ]
        }
      ]
    },
    {
      "cell_type": "code",
      "source": [
        "colors = {\"빨강\": \"red\", \"파랑\": \"blue\", \"초록\": \"green\"}\n",
        "\n",
        "for kr, en in colors.items() :\n",
        "    print(kr, \":\", en)"
      ],
      "metadata": {
        "colab": {
          "base_uri": "https://localhost:8080/"
        },
        "id": "UZ3D3T1MUC8H",
        "outputId": "44de8d1f-9541-4712-f47f-988d3a2c405d"
      },
      "execution_count": null,
      "outputs": [
        {
          "output_type": "stream",
          "name": "stdout",
          "text": [
            "빨강 : red\n",
            "파랑 : blue\n",
            "초록 : green\n"
          ]
        }
      ]
    },
    {
      "cell_type": "code",
      "source": [
        "info = {\"회사\": \"삼일\", \"부서\": \"디지털\", \"지원자\": \"나영\"}\n",
        "print(\"🗝️ key 목록:\")\n",
        "for k in info.keys() :\n",
        "    print(k)\n",
        "\n",
        "print(\"🟨 value 목록:\")\n",
        "for v in info.values() :\n",
        "    print(v)"
      ],
      "metadata": {
        "colab": {
          "base_uri": "https://localhost:8080/"
        },
        "id": "Az7-Zax_WE95",
        "outputId": "16652788-ecbf-42d4-96c9-91cf77f1b9b9"
      },
      "execution_count": null,
      "outputs": [
        {
          "output_type": "stream",
          "name": "stdout",
          "text": [
            "🗝️ key 목록:\n",
            "회사\n",
            "부서\n",
            "지원자\n",
            "🟨 value 목록:\n",
            "삼일\n",
            "디지털\n",
            "나영\n"
          ]
        }
      ]
    },
    {
      "cell_type": "code",
      "source": [
        "people = [ {\"이름\": \"나영\", \"나이\": 31, \"취미\": \"발레\"}, {\"이름\": \"지훈\", \"나이\": 29, \"취미\": \"러닝\"}, {\"이름\": \"수진\", \"나이\": 32, \"취미\": \"요가\"} ]\n",
        "\n",
        "for person in people :\n",
        "    print(\"이름:\", person[\"이름\"])\n",
        "    print(\"나이:\", person[\"나이\"])\n",
        "    print(\"취미:\", person[\"취미\"])\n",
        "    print(\"_________\")"
      ],
      "metadata": {
        "colab": {
          "base_uri": "https://localhost:8080/"
        },
        "id": "cAFMhy1HYVJ_",
        "outputId": "d6bc1136-9f6f-4dfd-b3bb-d782f4f16584"
      },
      "execution_count": null,
      "outputs": [
        {
          "output_type": "stream",
          "name": "stdout",
          "text": [
            "이름: 나영\n",
            "나이: 31\n",
            "취미: 발레\n",
            "_________\n",
            "이름: 지훈\n",
            "나이: 29\n",
            "취미: 러닝\n",
            "_________\n",
            "이름: 수진\n",
            "나이: 32\n",
            "취미: 요가\n",
            "_________\n"
          ]
        }
      ]
    },
    {
      "cell_type": "code",
      "source": [],
      "metadata": {
        "id": "qcW82aefaI0y"
      },
      "execution_count": null,
      "outputs": []
    }
  ]
}